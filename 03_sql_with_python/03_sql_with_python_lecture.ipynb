{
 "cells": [
  {
   "cell_type": "markdown",
   "id": "a09ea973",
   "metadata": {},
   "source": [
    "# SQL with Python 🐍"
   ]
  },
  {
   "cell_type": "markdown",
   "id": "f00b7afa",
   "metadata": {},
   "source": [
    "## Objectives"
   ]
  },
  {
   "cell_type": "markdown",
   "id": "88f70d3d",
   "metadata": {},
   "source": [
    "1. SQLAlchemy\n",
    "2. Create a database connection (engine)\n",
    "3. Run SQL statements\n",
    "4. Reading and Writing tables with pandas\n",
    "5. Creating Databases"
   ]
  },
  {
   "cell_type": "markdown",
   "id": "d0f7b9f3",
   "metadata": {},
   "source": [
    "# 1. SQLAlchemy 🐍\n",
    "\n",
    "SQLAlchemy provides tools for managing connections to a database, interacting with database queries and results, and construction of SQL statements in Python."
   ]
  },
  {
   "cell_type": "markdown",
   "id": "699f47d5",
   "metadata": {},
   "source": [
    "concept  |  description\n",
    "---|---|\n",
    "`sqlalchemy`      | high-level python library for managing all kinds of relational databases\n",
    "`psycopg2`      |   low-level python library that actually manages the communication with a PostgreSQL DB\n",
    "`create_engine()`      |   creates an `engine` that manages a conncetion to a DB\n",
    "`'postgresql://<user>:<password>@<host>/<db>'` | the url, a string that contains all information needed to connect to a DB\n",
    "`with engine.begin() as conn` | opens a database connection to read or write data\n",
    "`conn.execute()` | submit arbitrary SQL statements to a DB\n",
    "`df.to_sql(tablename, engine)` | write a pandas DataFrame into a table of a database\n",
    "`pd.read_sql(tablename,engine)` | read a table as a DataFrame"
   ]
  },
  {
   "cell_type": "markdown",
   "id": "9be4db51",
   "metadata": {},
   "source": [
    "https://www.sqlalchemy.org/\n",
    "\n",
    "https://www.psycopg.org/docs/install.html\n",
    "\n",
    "https://docs.sqlalchemy.org/en/14/dialects/postgresql.html#module-sqlalchemy.dialects.postgresql.psycopg2\n",
    "\n",
    "https://pypi.org/project/python-dotenv/"
   ]
  },
  {
   "cell_type": "markdown",
   "id": "00e2bedf",
   "metadata": {},
   "source": [
    "## 💾 Installation\n",
    "\n",
    "Install the required libraries with `pip`:\n",
    "\n",
    "```bash\n",
    "pip install sqlalchemy\n",
    "pip install psycopg2-binary\n",
    "```\n",
    "\n",
    "- **`sqlalchemy`** is the generic high-level database interface for Python. You can use it to connect to many different relational databases.   \n",
    "- **`psycopg2`** is the low-level database driver specifically for Postgres.  \n",
    "Usually `psycopg2` is not imported explicitly but is required by `sqlalchemy` when working with a Postgres Database Server. "
   ]
  },
  {
   "cell_type": "code",
   "execution_count": null,
   "id": "2ecd0fb2",
   "metadata": {},
   "outputs": [],
   "source": [
    "# !pip install sqlalchemy\n",
    "\n",
    "# !pip install --upgrade sqlalchemy"
   ]
  },
  {
   "cell_type": "code",
   "execution_count": null,
   "id": "238faeb5",
   "metadata": {
    "scrolled": true
   },
   "outputs": [],
   "source": [
    "# !pip install psycopg2-binary"
   ]
  },
  {
   "cell_type": "markdown",
   "id": "9b1446bb",
   "metadata": {},
   "source": [
    "# 2. Create a database connection 🔌🏦"
   ]
  },
  {
   "cell_type": "markdown",
   "id": "77be2cd1",
   "metadata": {},
   "source": [
    "To access your database, SQLAlchemy needs a connection string. Connection strings consist of six parts:\n",
    "\n",
    "part | description | default value\n",
    "--- | --- | ---\n",
    "dialect | The dialect/ flavour of the relational database | ...\n",
    "host | IP address or name of the database server machine | localhost\n",
    "port | network port on the host machine | 5432\n",
    "database | the name of your database | postgres\n",
    "user | the user name of the PostgreSQL Server | postgres\n",
    "password | the password of the database user | ..."
   ]
  },
  {
   "cell_type": "code",
   "execution_count": null,
   "id": "ee07a03d",
   "metadata": {},
   "outputs": [],
   "source": [
    "import pandas as pd\n",
    "from sqlalchemy import create_engine, types\n",
    "from sqlalchemy import text # to be able to pass string"
   ]
  },
  {
   "cell_type": "markdown",
   "id": "5e2f0074",
   "metadata": {},
   "source": [
    "### A ``connection string`` for postgresql could look like this:"
   ]
  },
  {
   "cell_type": "markdown",
   "id": "5e5bcefc",
   "metadata": {},
   "source": [
    "```python\n",
    "url = '<dialect>://<user>:<password>@<host>:<port>/<database>'\n",
    "```"
   ]
  },
  {
   "cell_type": "code",
   "execution_count": null,
   "id": "dd13602a",
   "metadata": {},
   "outputs": [],
   "source": [
    "# Let's load values from the .env file\n",
    "from dotenv import dotenv_values\n",
    "\n",
    "config = dotenv_values()\n",
    "\n",
    "# define variables for the login\n",
    "pg_user = config['POSTGRES_USER']  # align the key label with your .env file !\n",
    "pg_host = config['POSTGRES_HOST']\n",
    "pg_port = config['POSTGRES_PORT']\n",
    "pg_db = config['POSTGRES_DB']\n",
    "pg_schema = config['POSTGRES_SCHEMA']\n",
    "pg_pass = config['POSTGRES_PASS']"
   ]
  },
  {
   "cell_type": "code",
   "execution_count": null,
   "id": "1c2f748a",
   "metadata": {},
   "outputs": [],
   "source": [
    "# Now building the URL with the values from the .env file\n",
    "\n",
    "url = f'postgresql://{pg_user}:{pg_pass}@{pg_host}:{pg_port}/{pg_db}'\n",
    "\n",
    "# without specifying the schema default connection is to the schema `public`\n",
    "# url = f'postgresql://{pg_user}:{pg_pass}@{pg_host}:{pg_port}/{pg_db}'"
   ]
  },
  {
   "cell_type": "markdown",
   "id": "d57f5b5e",
   "metadata": {},
   "source": [
    "### With a connection string we can create an ``engine``:"
   ]
  },
  {
   "cell_type": "code",
   "execution_count": null,
   "id": "214315a0",
   "metadata": {},
   "outputs": [],
   "source": [
    "pg_db"
   ]
  },
  {
   "cell_type": "code",
   "execution_count": null,
   "id": "1c40a9f9",
   "metadata": {},
   "outputs": [],
   "source": [
    "engine = create_engine(url, echo=False)"
   ]
  },
  {
   "cell_type": "markdown",
   "id": "c281e290",
   "metadata": {},
   "source": [
    "The engine object manages connections to the database. It can be used to open new connections or to handle several connections at once."
   ]
  },
  {
   "cell_type": "code",
   "execution_count": null,
   "id": "467510fa",
   "metadata": {},
   "outputs": [],
   "source": [
    "# check your URL\n",
    "\n",
    "engine.url # password is hidden"
   ]
  },
  {
   "cell_type": "markdown",
   "id": "b7cb2b6c",
   "metadata": {},
   "source": [
    "### Logging\n",
    "\n",
    "`sqlalchemy` and `psycopg2` translate python statements into SQL commands that a database server can understand.  \n",
    "When creating the engine, you can set `echo=True` to print out all the raw SQL queries that are actually sent to the server in the background and are usually hidden from the Python programmer! "
   ]
  },
  {
   "cell_type": "markdown",
   "id": "db78f2d3",
   "metadata": {},
   "source": [
    "### Schema: \n",
    "\n",
    "because we use different schemas, we need to specify in which schema to search for the table\n",
    "\n",
    "**Option 1** - using search_path parameter:\n",
    ">```sql\n",
    ">SET search_path TO your_schema;  \n",
    ">```\n",
    "**Option 2** - associating the table with the schema directly:\n",
    ">```sql\n",
    ">SELECT * FROM your_schema.students;\n",
    ">```\n",
    "\n",
    "<br>\n",
    "\n",
    "<details>\n",
    "<summary><b> SIDEBAR:</b> What is <code>search_path</code>?</summary>\n",
    "\n",
    "In PostgreSQL, the <code>search_path</code> is a configuration parameter that determines the order in which schemas are searched when an object (like a table or function) is referenced by a simple, unqualified name.\n",
    "\n",
    "**Links:**\n",
    "- https://www.commandprompt.com/education/postgresql-schema-search-path/\n",
    "- https://www.postgresql.org/docs/current/ddl-schemas.html#DDL-SCHEMAS-PATH\n",
    "\n",
    "</details>"
   ]
  },
  {
   "cell_type": "code",
   "execution_count": null,
   "id": "c027fb55",
   "metadata": {},
   "outputs": [],
   "source": [
    "my_schema = 'sara_dont_touch' # update it to your schema\n",
    "\n",
    "with engine.begin() as conn: \n",
    "    result = conn.execute(text(f'SET search_path TO {my_schema};'))"
   ]
  },
  {
   "cell_type": "markdown",
   "id": "f89b179e",
   "metadata": {},
   "source": [
    "# 3. Run SQL statements 🔧✏️📚"
   ]
  },
  {
   "cell_type": "markdown",
   "id": "21d633eb",
   "metadata": {},
   "source": [
    "With an `engine` defined we can now send plain SQL statements to the server."
   ]
  },
  {
   "cell_type": "markdown",
   "id": "581f11bd",
   "metadata": {},
   "source": [
    "***PREVIEW: Simple reading example***"
   ]
  },
  {
   "cell_type": "code",
   "execution_count": null,
   "id": "78042af5",
   "metadata": {},
   "outputs": [],
   "source": [
    "with engine.begin() as conn: # Done with echo=False\n",
    "    result = conn.execute(text(f'''\n",
    "                               SELECT * FROM students; \n",
    "                                '''))\n",
    "    data = result.all()\n",
    "\n",
    "### Let's create a dataframe out of that\n",
    "df = pd.DataFrame(data, columns=['...', '...', '...']) \n",
    "df"
   ]
  },
  {
   "cell_type": "markdown",
   "id": "79b36987",
   "metadata": {},
   "source": [
    "### 🔧 3.1 Create a new table ``seminars``:"
   ]
  },
  {
   "cell_type": "markdown",
   "id": "34a9a90f",
   "metadata": {},
   "source": [
    "Connecting to a database works like opening a connection to a local file.  \n",
    "\n",
    "The connection stays open within the `with` block and will be closed afterwards. \n",
    "\n",
    "`conn.execute` sends the SQL statement to the server and optionally \n",
    "returns a result set."
   ]
  },
  {
   "cell_type": "code",
   "execution_count": null,
   "id": "e363a6b0",
   "metadata": {},
   "outputs": [],
   "source": [
    "with engine.begin() as conn:\n",
    "    conn.execute(text(f\"\"\"\n",
    "        DROP TABLE IF EXISTS seminars;\n",
    "        CREATE TABLE seminars (\n",
    "            seminar_name VARCHAR PRIMARY KEY,\n",
    "            seminar_start DATE,\n",
    "            seminar_end DATE,\n",
    "            instructor_id VARCHAR\n",
    "        );    \n",
    "    \"\"\"))"
   ]
  },
  {
   "cell_type": "markdown",
   "id": "3d1c5b25",
   "metadata": {},
   "source": [
    ">#### Check your Schema in DBeaver for changes"
   ]
  },
  {
   "cell_type": "markdown",
   "id": "79b64fbd",
   "metadata": {},
   "source": [
    "### ✏️3.2 Insert some data:"
   ]
  },
  {
   "cell_type": "markdown",
   "id": "d569fdf6",
   "metadata": {},
   "source": [
    "Within a connection context we can send one or several statements at once:"
   ]
  },
  {
   "cell_type": "code",
   "execution_count": null,
   "id": "d6bbdc98",
   "metadata": {},
   "outputs": [],
   "source": [
    "# let's switch the logging on. because the engine is getting renewed we need to specify the schema again.\n",
    "engine = create_engine(url, echo=True)\n",
    "\n",
    "my_schema = 'sara_dont_touch' # change it to your schema name\n",
    "\n",
    "with engine.begin() as conn: \n",
    "    result = conn.execute(text(f'SET search_path TO {my_schema};'))"
   ]
  },
  {
   "cell_type": "code",
   "execution_count": null,
   "id": "8fcbaa75",
   "metadata": {},
   "outputs": [],
   "source": [
    "with engine.begin() as conn: # Done with echo=True\n",
    "    conn.execute(text(\"INSERT INTO seminars VALUES ('art', '2024-03-23', '2024-05-23', 't23')\"))\n",
    "    conn.execute(text(\"INSERT INTO seminars VALUES ('ethics', '2024-03-17', '2024-04-05', 't12')\"))\n",
    "    conn.execute(text(\"INSERT INTO seminars VALUES ('engineering', '2024-10-09', '2024-11-08', 't45')\"))\n",
    "    conn.execute(text(\"INSERT INTO seminars VALUES ('politics', '2024-07-11', '2024-08-31', 't37')\"))\n",
    "    conn.execute(text(\"INSERT INTO seminars VALUES ('python', '2024-08-01', '2024-12-01', 't08')\"))"
   ]
  },
  {
   "cell_type": "markdown",
   "id": "5e5a313e",
   "metadata": {},
   "source": [
    "or "
   ]
  },
  {
   "cell_type": "code",
   "execution_count": null,
   "id": "8389d94d",
   "metadata": {},
   "outputs": [],
   "source": [
    "with engine.begin() as conn: # Done with echo=True\n",
    "    conn.execute(text('''\n",
    "                        TRUNCATE TABLE seminars; -- we need to empty the table due to Primary Key constraint\n",
    "                        INSERT INTO seminars VALUES ('art', '2024-03-23', '2024-05-23', 't23');\n",
    "                        INSERT INTO seminars VALUES ('ethics', '2024-03-17', '2024-04-05', 't12');\n",
    "                        INSERT INTO seminars VALUES ('engineering', '2024-10-09', '2024-11-08', 't45');\n",
    "                        INSERT INTO seminars VALUES ('politics', '2024-07-11', '2024-08-31', 't37');\n",
    "                        INSERT INTO seminars VALUES ('python', '2024-08-01', '2024-12-01', 't08');                      \n",
    "                    '''))"
   ]
  },
  {
   "cell_type": "markdown",
   "id": "d599415e",
   "metadata": {},
   "source": [
    "#### Side Bar: Transactions"
   ]
  },
  {
   "cell_type": "markdown",
   "id": "f5ae5e06",
   "metadata": {},
   "source": [
    ">\n",
    ">**engine.begin():**  \n",
    "The statements withing the `with` block are executed as a *transaction*. A transaction bundles several SQL statements into a single atomic unit (all 'conn.execute()' are treated as a single transaction). If any query fails (e.g., due to an error or constraint violation), the entire transaction is rolled back, and none of the queries take effect. **It is all or nothing.**\n",
    ">\n",
    "This is called *atomicity* and is one of the key features of a relational database. To send the statements without transaction use `engine.connect()` instead of `engine.begin()`.\n",
    ">\n",
    ">**engine.connect():**  \n",
    "Each `conn.execute()` line is treated as a separate transaction. If a query fails, it doesn’t affect other queries executed earlier. You need to explicitly handle the transactions (commit or rollback) for each individual query."
   ]
  },
  {
   "cell_type": "markdown",
   "id": "f3f78d89",
   "metadata": {},
   "source": [
    "### 📚 3.3 Reading data"
   ]
  },
  {
   "cell_type": "markdown",
   "id": "16d6ac11",
   "metadata": {},
   "source": [
    "We can also run `SELECT` statements and store the result in a variable `result`  \n",
    "\n",
    "The method `result.all()` reads all rows from the result object and returns a list\n",
    "of tuples:"
   ]
  },
  {
   "cell_type": "code",
   "execution_count": null,
   "id": "dc08f566",
   "metadata": {},
   "outputs": [],
   "source": [
    "# let's read the newly created table\n",
    "\n",
    "with engine.begin() as conn: # Done with echo=True\n",
    "    result = conn.execute(text(\"SELECT * FROM seminars;\"))\n",
    "    seminars_data = result.all()\n",
    "\n",
    "print(seminars_data)\n",
    "#returns a list of tuples, each tuple being a row in the table"
   ]
  },
  {
   "cell_type": "markdown",
   "id": "8cc4ece4",
   "metadata": {},
   "source": [
    "The list of rows can then be converted into a `pd.DataFrame`:"
   ]
  },
  {
   "cell_type": "code",
   "execution_count": null,
   "id": "b32ba0d5",
   "metadata": {},
   "outputs": [],
   "source": [
    "df = pd.DataFrame(seminars_data, columns=['seminar_name', 'seminar_start', 'seminar_end', 'instructor_id'])\n",
    "# df.set_index('seminar_name')\n",
    "df"
   ]
  },
  {
   "cell_type": "code",
   "execution_count": null,
   "id": "f3c37a3e",
   "metadata": {},
   "outputs": [],
   "source": [
    "# let's switch the logging off again. .\n",
    "engine = create_engine(url, echo=False)\n",
    "\n",
    "my_schema = 'sara_dont_touch'\n",
    "\n",
    "with engine.begin() as conn: \n",
    "    result = conn.execute(text(f'SET search_path TO {my_schema};'))"
   ]
  },
  {
   "cell_type": "markdown",
   "id": "3935b89f",
   "metadata": {},
   "source": [
    ">NOTE: if you don't have `students`, `enrolments` and `exam_tables` anymore. Please find the sql file `academy_tables.sql` in the lecture folder and run the queries in your schema in DBeaver."
   ]
  },
  {
   "cell_type": "markdown",
   "id": "2092bfcb",
   "metadata": {},
   "source": [
    "# 4. Reading 📚 and Writing ✏️ tables with pandas 🐼"
   ]
  },
  {
   "cell_type": "markdown",
   "id": "c4e42ceb",
   "metadata": {},
   "source": [
    "Pandas has some built-in tools to directly read data from a database into a DataFrame:"
   ]
  },
  {
   "cell_type": "markdown",
   "id": "66c6f1e5",
   "metadata": {},
   "source": [
    ">**TEACHER's Note:**  \n",
    "> if the cohort is not as strong read/query only one table, and then save it as another version of itself to the database."
   ]
  },
  {
   "cell_type": "code",
   "execution_count": null,
   "id": "ac6b6776",
   "metadata": {},
   "outputs": [],
   "source": [
    "# reading students table into a dataframe\n",
    "\n",
    "students = pd.read_sql(sql=text('SELECT * FROM students;'), con=engine)\n",
    "# enrolments = pd.read_sql(sql=text('SELECT * FROM enrolments;'), con=engine.connect())\n",
    "students"
   ]
  },
  {
   "cell_type": "code",
   "execution_count": null,
   "id": "c9aa5cee",
   "metadata": {},
   "outputs": [],
   "source": [
    "# reading exam_scores table into a dataframe\n",
    "\n",
    "exam_scores = pd.read_sql(sql=text('SELECT * FROM exam_grades;'), con=engine)\n",
    "exam_scores"
   ]
  },
  {
   "cell_type": "code",
   "execution_count": null,
   "id": "2843796e",
   "metadata": {
    "scrolled": false
   },
   "outputs": [],
   "source": [
    "# let's merge students and exam_scores on \"student_id\"\n",
    "\n",
    "student_scores = pd.merge(students, exam_scores, on=('student_id'), how='inner')\n",
    "student_scores"
   ]
  },
  {
   "cell_type": "code",
   "execution_count": null,
   "id": "5fd2f9a4",
   "metadata": {},
   "outputs": [],
   "source": [
    "# optionally adding student_id as index \n",
    "student_scores.set_index('student_id', inplace=True)\n",
    "student_scores"
   ]
  },
  {
   "cell_type": "markdown",
   "id": "cfee61f9",
   "metadata": {},
   "source": [
    "#### With a one-liner, you can also import new data into the database:"
   ]
  },
  {
   "cell_type": "code",
   "execution_count": null,
   "id": "db0483ae",
   "metadata": {},
   "outputs": [],
   "source": [
    "# Drop the table manually if it exists\n",
    "#with engine.connect() as connection:\n",
    "    #connection.execute(text(\"DROP TABLE IF EXISTS student_scores\"))"
   ]
  },
  {
   "cell_type": "code",
   "execution_count": null,
   "id": "a928983b",
   "metadata": {},
   "outputs": [],
   "source": [
    "student_scores.to_sql('student_scores', engine, if_exists='replace',index=True)"
   ]
  },
  {
   "cell_type": "markdown",
   "id": "34120c0c",
   "metadata": {},
   "source": [
    ">#### Check your Schema in DBeaver for changes"
   ]
  },
  {
   "cell_type": "markdown",
   "id": "80b8d67b",
   "metadata": {},
   "source": [
    "In the background, this creates a new table with column definitions and inserts the data into the table.   \n",
    ">**Note:** Check the data type of the columns. For example the last column `grade` is currently a **float8**"
   ]
  },
  {
   "cell_type": "markdown",
   "id": "1e5791f4",
   "metadata": {},
   "source": [
    "To get more control over the data types of the table \n",
    "you can run a `CREATE TABLE` statement before inserting data with pandas:"
   ]
  },
  {
   "cell_type": "code",
   "execution_count": null,
   "id": "20603a3a",
   "metadata": {
    "scrolled": true
   },
   "outputs": [],
   "source": [
    "with engine.begin() as conn:\n",
    "    conn.execute(text(\"DROP TABLE IF EXISTS student_grades;\"))\n",
    "    conn.execute(text(\"\"\"\n",
    "                        CREATE TABLE student_grades (\n",
    "                                                    student_id INT,\n",
    "                                                    student_name VARCHAR,\n",
    "                                                    email VARCHAR,\n",
    "                                                    seminar_name VARCHAR,\n",
    "                                                    grade NUMERIC\n",
    "                                                    );\n",
    "                        \"\"\"))\n",
    "    student_scores.to_sql('student_grades', conn, if_exists='append', index='student_id') \n",
    "    # here we use the variable `conn` as this line is stil indented under the `with engine.begin() as conn`statement and is using the open connection to db."
   ]
  },
  {
   "cell_type": "markdown",
   "id": "3e7d2033",
   "metadata": {},
   "source": [
    "> check now in DBeaver the data type of the columns."
   ]
  },
  {
   "cell_type": "markdown",
   "id": "e00e450c",
   "metadata": {},
   "source": [
    "or we can define a **dictionary** with the data types and pass it to the pandas `.to_sql()` method. In this case would use the `engine` directly as we are not opening a connection within a `WITH` statement."
   ]
  },
  {
   "cell_type": "markdown",
   "id": "9651138c",
   "metadata": {},
   "source": [
    "> ### Refresh the database in DBeaver."
   ]
  }
 ],
 "metadata": {
  "kernelspec": {
   "display_name": "Python 3 (ipykernel)",
   "language": "python",
   "name": "python3"
  },
  "language_info": {
   "codemirror_mode": {
    "name": "ipython",
    "version": 3
   },
   "file_extension": ".py",
   "mimetype": "text/x-python",
   "name": "python",
   "nbconvert_exporter": "python",
   "pygments_lexer": "ipython3",
   "version": "3.10.9"
  }
 },
 "nbformat": 4,
 "nbformat_minor": 5
}
