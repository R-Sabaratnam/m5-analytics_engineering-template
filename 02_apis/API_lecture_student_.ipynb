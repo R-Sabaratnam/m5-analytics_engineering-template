{
 "cells": [
  {
   "cell_type": "markdown",
   "id": "2f865dd6",
   "metadata": {
    "hide_input": true
   },
   "source": [
    "#  APIs "
   ]
  },
  {
   "cell_type": "markdown",
   "id": "2c8a9bf2",
   "metadata": {},
   "source": [
    "--------"
   ]
  },
  {
   "cell_type": "markdown",
   "id": "c5af1daf",
   "metadata": {},
   "source": [
    "## Warm- up"
   ]
  },
  {
   "cell_type": "markdown",
   "id": "3d0a1ff1",
   "metadata": {},
   "source": [
    "- What is JSON, and why is it used in programming?\n",
    "- In the code, what data structure is used to represent an individual student’s information?\n",
    "- How are key-value pairs used in dictionaries, both in Python and in JSON?"
   ]
  },
  {
   "cell_type": "code",
   "execution_count": null,
   "id": "796a7267",
   "metadata": {},
   "outputs": [],
   "source": [
    "import json"
   ]
  },
  {
   "cell_type": "code",
   "execution_count": null,
   "id": "30f99e1d",
   "metadata": {},
   "outputs": [],
   "source": [
    "\n",
    "# Creating student records\n",
    "student1 = {\n",
    "    \"name\": \"Alice\",\n",
    "    \"age\": 15,\n",
    "    \"grade\": 10,\n",
    "    \"subjects\": [\"Math\", \"Science\", \"History\"]\n",
    "}\n",
    "\n",
    "student2 = {\n",
    "    \"name\": \"Bob\",\n",
    "    \"age\": 16,\n",
    "    \"grade\": 11,\n",
    "    \"subjects\": [\"English\", \"Physics\", \"Geography\"]\n",
    "}\n",
    "\n",
    "student3 = {\n",
    "    \"name\": \"Carol\",\n",
    "    \"age\": 14,\n",
    "    \"grade\": 9,\n",
    "    \"subjects\": [\"Art\", \"Music\", \"PE\"]\n",
    "}\n",
    "\n",
    "# Creating a list of student records\n",
    "student_database = [student1, student2, student3]\n",
    "\n",
    "# Converting the student database to JSON format\n",
    "json_data = json.dumps(student_database, indent=4)\n",
    "\n",
    "# Printing the JSON data\n",
    "print(json_data)\n",
    "\n",
    "# Checking the type\n",
    "type(json_data)"
   ]
  },
  {
   "cell_type": "markdown",
   "id": "1882a9d9",
   "metadata": {},
   "source": [
    "#### The json.loads() function to parse the JSON string and convert it back to Python data structures (dictionaries and lists)"
   ]
  },
  {
   "cell_type": "code",
   "execution_count": null,
   "id": "4a6fe354",
   "metadata": {
    "scrolled": false
   },
   "outputs": [],
   "source": [
    "json.loads(json_data)"
   ]
  },
  {
   "cell_type": "markdown",
   "id": "feefb8f0",
   "metadata": {},
   "source": [
    "### What is an API?"
   ]
  },
  {
   "cell_type": "markdown",
   "id": "16c2a078",
   "metadata": {},
   "source": [
    "> An ***API (short for Application Programming Interface)*** is a concept used to describe – essentially – a piece of intermediary software (the interface) that facilitates communication between 2 other pieces of software (the applications).\n",
    "\n",
    "> It is a set of programming code that enables a transmission between one sofware product and another."
   ]
  },
  {
   "cell_type": "markdown",
   "id": "c93c9651",
   "metadata": {},
   "source": [
    "However, this is a pretty broad definition, as technically:\n",
    "- Pandas is an API to Numpy, \n",
    "- Numpy is an API to the C programming language, \n",
    "- C is an API to assembly code, and so on..."
   ]
  },
  {
   "cell_type": "markdown",
   "id": "25834853",
   "metadata": {},
   "source": [
    "\n",
    "Usually when talking about APIs, we mean **Web** APIs, e.g. used to get data from the internet."
   ]
  },
  {
   "cell_type": "markdown",
   "id": "e86e48b9",
   "metadata": {},
   "source": [
    "A Web API typically means some kind of special website or URL that we use as a channel to get data from some company or web based program. We can write a Python program to retrieve data from the API. Put very bluntly, an API is a website providing data that is easy for a machine (e.g. python code) to understand (as opposed to a prettier, HTML-rendered, user interface for humans)."
   ]
  },
  {
   "cell_type": "markdown",
   "id": "c3623dcc",
   "metadata": {},
   "source": [
    "<img src='webapi_waiter.png' style=\"background-color:white;\">\n",
    "> https://medium.com/@ama.thanu/what-is-an-api-how-does-it-work-f4ea552d741f"
   ]
  },
  {
   "cell_type": "markdown",
   "id": "7e42c01e",
   "metadata": {},
   "source": [
    "--------------------------------------------------------------"
   ]
  },
  {
   "cell_type": "markdown",
   "id": "ff9eaee7",
   "metadata": {},
   "source": [
    "### REST (Representational State Transfer) and RESTful API"
   ]
  },
  {
   "cell_type": "markdown",
   "id": "808ef22d",
   "metadata": {},
   "source": [
    "### What is REST?\n",
    "\n",
    "\n",
    "REST (Representational State Transfer) is a way to design web services that allows different systems to communicate over the internet.\n",
    "It's a set of guidelines that can be used with any protocol (like HTTP), but it's most commonly used with HTTP because that's how most web traffic works.\n",
    "https://learn.microsoft.com/en-us/azure/architecture/best-practices/api-design#what-is-rest"
   ]
  },
  {
   "cell_type": "markdown",
   "id": "db6fafbd",
   "metadata": {},
   "source": [
    "\n",
    "### What is a REST API?\n",
    "\n",
    "A REST API is a specific type of API that follows the REST principles.\n",
    "\n",
    "It allows applications to perform basic operations on data:\n",
    "Create (add new data)\n",
    "Read (retrieve data)\n",
    "Update (change existing data)\n",
    "Delete (remove data)\n"
   ]
  },
  {
   "cell_type": "markdown",
   "id": "1b161eca",
   "metadata": {},
   "source": [
    "**RESTful API** is an application program interface (API) that uses [HTTP requests methods](https://www.restapitutorial.com/lessons/httpmethods.htm) GET, PUT, POST and DELETE data. \n",
    "\n",
    "Every application which has CRUD(Create, Read, Update, Delete) operation has an API to create data, to get data, to update data or to delete data from database.\n",
    "  \n"
   ]
  },
  {
   "cell_type": "markdown",
   "id": "9b23a077",
   "metadata": {},
   "source": [
    "------------------------------------------------------"
   ]
  },
  {
   "cell_type": "markdown",
   "id": "3396a4b7",
   "metadata": {},
   "source": [
    "In summary, REST API is a specific type of Web API that adheres to the principles of Representational State Transfer, using HTTP methods and statelessness. Web API is a more general term that encompasses APIs exposed over the web, which may or may not follow REST principles and can use various protocols and data formats."
   ]
  },
  {
   "cell_type": "markdown",
   "id": "24b77d67",
   "metadata": {},
   "source": [
    "------------------------------------------------------"
   ]
  },
  {
   "cell_type": "markdown",
   "id": "1ed97aac",
   "metadata": {},
   "source": [
    "### HTTP (Hypertext Transfer Protocol)"
   ]
  },
  {
   "cell_type": "markdown",
   "id": "4b01c966",
   "metadata": {},
   "source": [
    "HTTP is an established communication protocol between a client and a server. A client in this case is a browser and server is the place where you access data. HTTP is a network protocol used to deliver resources which could be files on the World Wide Web, whether they're HTML files, image files, query results, scripts, or other file types.\n",
    "\n",
    "A browser is an HTTP client because it sends requests to an HTTP server (Web server), which then sends responses back to the client.\n",
    "\n",
    "Web API is a set of stpecifications \n",
    "- Hypertext Transfer Protocol (HTTP) request messages, \n",
    "- along with a definition of the structure of response messages, usually in an XML or a JavaScript Object Notation (JSON) format. "
   ]
  },
  {
   "cell_type": "markdown",
   "id": "4705399a",
   "metadata": {},
   "source": [
    "------------------------------------------------------"
   ]
  },
  {
   "cell_type": "markdown",
   "id": "f1814a30",
   "metadata": {},
   "source": [
    "### OpenAPI (optional: for self reading)"
   ]
  },
  {
   "cell_type": "markdown",
   "id": "4a025ccb",
   "metadata": {},
   "source": [
    "OpenAPI is a specification used for creating interfaces used in describing, producing, consuming, and visualizing RESTful APIs. It is also known as the swagger specification.\n",
    "\n",
    "Very informative about what OpenAPI is: https://document360.com/blog/open-api"
   ]
  },
  {
   "cell_type": "markdown",
   "id": "901a0bb6",
   "metadata": {},
   "source": [
    "------------------------------------------------------"
   ]
  },
  {
   "cell_type": "markdown",
   "id": "d795a735",
   "metadata": {},
   "source": [
    "## Request Library"
   ]
  },
  {
   "cell_type": "markdown",
   "id": "ba7a71ec",
   "metadata": {},
   "source": [
    "The Python `requests` library is a popular third-party library that simplifies the process of making HTTP requests and working with HTTP responses. It provides a high-level interface for sending HTTP requests to web servers and receiving their responses. This library is widely used for tasks like fetching data from APIs, sending data to servers, and interacting with web resources.\n",
    "> #### Intro to request library:\n",
    ">- https://requests.readthedocs.io (Documentation)\n",
    ">- https://realpython.com/python-requests/\n",
    ">- https://www.geeksforgeeks.org/response-json-python-requests/"
   ]
  },
  {
   "cell_type": "code",
   "execution_count": null,
   "id": "97590be8",
   "metadata": {},
   "outputs": [],
   "source": [
    "# pip install requests"
   ]
  },
  {
   "cell_type": "code",
   "execution_count": null,
   "id": "c238df0d",
   "metadata": {},
   "outputs": [],
   "source": [
    "import requests\n",
    "import pprint # https://docs.python.org/3/library/pprint.html\n",
    "import pandas as pd"
   ]
  },
  {
   "cell_type": "markdown",
   "id": "e858086c",
   "metadata": {},
   "source": [
    "### Let's get some data from the VBB Berlin API!"
   ]
  },
  {
   "cell_type": "markdown",
   "id": "aad9b836",
   "metadata": {},
   "source": [
    "For the API of VBB Berlin & Brandenburg we can get some data for Moritzplatz using this url:"
   ]
  },
  {
   "cell_type": "code",
   "execution_count": null,
   "id": "4d17a94a",
   "metadata": {},
   "outputs": [],
   "source": [
    "api_url = 'https://v6.vbb.transport.rest/locations?query=moritzplatz'"
   ]
  },
  {
   "cell_type": "markdown",
   "id": "7620c62d",
   "metadata": {},
   "source": [
    "[v6.vbb.transport.rest](https://v6.vbb.transport.rest) is a free to use REST API for the public transportation system of Berlin & Brandenburg, VBB. The API doesn't require a sign up or a token."
   ]
  },
  {
   "cell_type": "markdown",
   "id": "744147ba",
   "metadata": {},
   "source": [
    "**Teachers Note:**\n",
    "All Transit APIs can be found her https://transport.rest/"
   ]
  },
  {
   "cell_type": "code",
   "execution_count": null,
   "id": "1d4abc9c",
   "metadata": {},
   "outputs": [],
   "source": [
    "response = requests.request(\"GET\", api_url)\n",
    "\n",
    "print(response.status_code)"
   ]
  },
  {
   "cell_type": "markdown",
   "id": "8b15f00f",
   "metadata": {},
   "source": [
    "### Using the Contents of Response"
   ]
  },
  {
   "cell_type": "markdown",
   "id": "f5947482",
   "metadata": {},
   "source": [
    "When you send a request using the requests library, you receive a response object that contains information about the server’s response.  \n",
    "**All status codes can be found here:** https://http.cat/"
   ]
  },
  {
   "cell_type": "code",
   "execution_count": null,
   "id": "1e9a7eb3",
   "metadata": {},
   "outputs": [],
   "source": [
    "response.status_code"
   ]
  },
  {
   "cell_type": "markdown",
   "id": "c49c44d3",
   "metadata": {},
   "source": [
    "The response objects allow you to access the contents of the response. Try them out!"
   ]
  },
  {
   "cell_type": "code",
   "execution_count": null,
   "id": "be9bfe9e",
   "metadata": {},
   "outputs": [],
   "source": [
    "# response.content # we can read the contents in raw form\n",
    "print(response.text) # we can read the contents as text\n",
    "#response.json() # we can translate response to json\n",
    "# response.headers\n",
    "# response.url\n"
   ]
  },
  {
   "cell_type": "markdown",
   "id": "75952f75",
   "metadata": {},
   "source": [
    " for example we can save the `.text` content as a json file for later usage:"
   ]
  },
  {
   "cell_type": "code",
   "execution_count": null,
   "id": "923d57e0",
   "metadata": {},
   "outputs": [],
   "source": [
    "# saving as json file\n",
    "\n",
    "with open('json_example.json', mode='w') as f:\n",
    "    f.write(response.text)\n"
   ]
  },
  {
   "cell_type": "code",
   "execution_count": null,
   "id": "4ad81bdb",
   "metadata": {},
   "outputs": [],
   "source": [
    "# to open a json file you nead to use json package function json.load()\n",
    "\n",
    "with open(\"json_example.json\", \"r\") as file:\n",
    "    results_saved = json.load(file)"
   ]
  },
  {
   "cell_type": "code",
   "execution_count": null,
   "id": "e4ae3407",
   "metadata": {
    "scrolled": true
   },
   "outputs": [],
   "source": [
    "# let's  translate our original response to json\n",
    "\n",
    "result = response.json()"
   ]
  },
  {
   "cell_type": "code",
   "execution_count": null,
   "id": "094be524",
   "metadata": {},
   "outputs": [],
   "source": [
    "result\n",
    "\n",
    "# check also out the list items: result[0] and so on"
   ]
  },
  {
   "cell_type": "code",
   "execution_count": null,
   "id": "59853110",
   "metadata": {},
   "outputs": [],
   "source": [
    "pprint.pprint(result)"
   ]
  },
  {
   "cell_type": "markdown",
   "id": "33d63135",
   "metadata": {},
   "source": [
    "> #### SIDEBAR:\n",
    "> online tools like https://jsonformatter.org/ can also help to review JSON "
   ]
  },
  {
   "cell_type": "code",
   "execution_count": null,
   "id": "fc1b22ae",
   "metadata": {},
   "outputs": [],
   "source": [
    "# try to add the json result to dataframe \n",
    "\n",
    "pd.DataFrame(result)"
   ]
  },
  {
   "cell_type": "code",
   "execution_count": null,
   "id": "7bb8cecb",
   "metadata": {},
   "outputs": [],
   "source": [
    "# try out pandas reading ability. Pandas can read JSON right from the API URL \n",
    "\n",
    "pd.read_json(api_url)"
   ]
  },
  {
   "cell_type": "code",
   "execution_count": null,
   "id": "af388643",
   "metadata": {},
   "outputs": [],
   "source": []
  },
  {
   "cell_type": "markdown",
   "id": "903e910f",
   "metadata": {},
   "source": [
    "### Are APIs free?"
   ]
  },
  {
   "cell_type": "markdown",
   "id": "799278b1",
   "metadata": {},
   "source": [
    "there are\n",
    "- Free APIs (Meteostat API https://dev.meteostat.net/api/) \n",
    "- Paid APIs (Bloomberg API https://www.bloomberg.com/professional/)\n",
    "- Hybrid APIs (OpenWeatherAPI https://openweathermap.org/api)"
   ]
  },
  {
   "cell_type": "markdown",
   "id": "e7196e7e",
   "metadata": {},
   "source": [
    "### What to consider when searching for an API?"
   ]
  },
  {
   "cell_type": "markdown",
   "id": "57ee131a",
   "metadata": {},
   "source": [
    "- How much data is available?\n",
    "- How much data can be retrieved in one call\n",
    "- Is there a call rate limit? (e.g. you are not allowed to make more than X requests per hour)\n",
    "- Does the API require authentication?\n",
    "    - Is the authentication difficult (username/password: easy; OAuth (more complex; need to create an account, generate authentication tokens)\n",
    "- Is there a fee? (e.g. you are charged X cents per request)\n",
    "- Is the documentation easy to understand? Usually a few example URLs are super valuable in trying to understand the syntax.\n",
    "- What type of data is returned? JSON is usually your best bet."
   ]
  },
  {
   "cell_type": "markdown",
   "id": "fc0c96a7",
   "metadata": {},
   "source": [
    "### What makes a web API better than scraping? "
   ]
  },
  {
   "cell_type": "markdown",
   "id": "4ddc41e8",
   "metadata": {},
   "source": [
    "- Interface is not meant for humans but for machines. This refers both, to  \n",
    "    - requests (=> well defined way how to ask for information)\n",
    "    - and to data delivery (=> provides data in a **more machine-readable format**, mostly json) \n",
    "- For larger data providers (e.g. reddit) there are often  \n",
    "    - helper libraries  \n",
    "    - documentation and examples\n",
    "    - clear terms and conditions about what is allowed\n",
    "- From the point of view of the provider, APIs\n",
    "    - create visibility (e.g. for a hotel operator whose vacant rooms are to be found by a meta search engine)\n",
    "    - ..."
   ]
  },
  {
   "cell_type": "markdown",
   "id": "f5e25bf2",
   "metadata": {
    "hide_input": false
   },
   "source": [
    "### How to *find* an interesting (web) API?"
   ]
  },
  {
   "cell_type": "markdown",
   "id": "f2d36666",
   "metadata": {
    "hide_input": false
   },
   "source": [
    "(Please have a look (!) and feel free to use your desired one for this week's project.)  \n",
    "- just search the internet  \n",
    "- have a look [here](https://apislist.com/). Tons of APIs!\n",
    "- or [here](https://dev.to/biplov/15-fun-apis-for-your-next-project-5053) Fun APIs!\n",
    "- But usually you want to start the other way round:  \n",
    " You know which data you want to scrape and specifically look for whether an API exists for this [data](https://spiced.space/bergamot-encoder/ds-course/chapters/final_project/datasets.html#datasets).  "
   ]
  },
  {
   "cell_type": "markdown",
   "id": "041f8c49",
   "metadata": {},
   "source": [
    "-------------------------------------"
   ]
  },
  {
   "cell_type": "markdown",
   "id": "1ffe3d17",
   "metadata": {},
   "source": [
    "## API Acess Tokens - how do they work?"
   ]
  },
  {
   "cell_type": "code",
   "execution_count": null,
   "id": "51d6f054",
   "metadata": {},
   "outputs": [],
   "source": [
    "from IPython.display import IFrame"
   ]
  },
  {
   "cell_type": "code",
   "execution_count": null,
   "id": "ab9cf701",
   "metadata": {
    "scrolled": true
   },
   "outputs": [],
   "source": [
    "IFrame(\"https://www.youtube.com/embed/DanUVSlOSQQ\", width=560, height=315)\n"
   ]
  },
  {
   "cell_type": "markdown",
   "id": "26966188",
   "metadata": {},
   "source": [
    "<iframe width=\"560\" height=\"315\" src=\"https://www.youtube.com/embed/DanUVSlOSQQ\" frameborder=\"0\" allowfullscreen></iframe>\n"
   ]
  },
  {
   "cell_type": "markdown",
   "id": "d5e2934d",
   "metadata": {},
   "source": [
    "<iframe width=\"560\" height=\"315\" src=\"https://www.youtube.com/embed/DanUVSlOSQQ\" frameborder=\"0\" allowfullscreen></iframe>\n"
   ]
  },
  {
   "cell_type": "markdown",
   "id": "de897983",
   "metadata": {},
   "source": [
    "## Next Step: \n",
    "\n",
    "###  Signup and explore meteostat API exercise\n",
    "\n",
    "\n"
   ]
  },
  {
   "cell_type": "code",
   "execution_count": null,
   "id": "2f5ea91e",
   "metadata": {},
   "outputs": [],
   "source": []
  }
 ],
 "metadata": {
  "hide_input": false,
  "kernelspec": {
   "display_name": "base",
   "language": "python",
   "name": "python3"
  },
  "language_info": {
   "codemirror_mode": {
    "name": "ipython",
    "version": 3
   },
   "file_extension": ".py",
   "mimetype": "text/x-python",
   "name": "python",
   "nbconvert_exporter": "python",
   "pygments_lexer": "ipython3",
   "version": "3.9.12"
  },
  "toc": {
   "base_numbering": 1,
   "nav_menu": {},
   "number_sections": false,
   "sideBar": true,
   "skip_h1_title": true,
   "title_cell": "Table of Contents",
   "title_sidebar": "Contents",
   "toc_cell": false,
   "toc_position": {
    "height": "calc(100% - 180px)",
    "left": "10px",
    "top": "150px",
    "width": "352px"
   },
   "toc_section_display": true,
   "toc_window_display": true
  },
  "varInspector": {
   "cols": {
    "lenName": 16,
    "lenType": 16,
    "lenVar": 40
   },
   "kernels_config": {
    "python": {
     "delete_cmd_postfix": "",
     "delete_cmd_prefix": "del ",
     "library": "var_list.py",
     "varRefreshCmd": "print(var_dic_list())"
    },
    "r": {
     "delete_cmd_postfix": ") ",
     "delete_cmd_prefix": "rm(",
     "library": "var_list.r",
     "varRefreshCmd": "cat(var_dic_list()) "
    }
   },
   "types_to_exclude": [
    "module",
    "function",
    "builtin_function_or_method",
    "instance",
    "_Feature"
   ],
   "window_display": false
  }
 },
 "nbformat": 4,
 "nbformat_minor": 5
}
